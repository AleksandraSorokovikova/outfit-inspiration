{
 "cells": [
  {
   "cell_type": "code",
   "execution_count": 1,
   "id": "initial_id",
   "metadata": {
    "collapsed": true,
    "ExecuteTime": {
     "end_time": "2023-11-01T16:17:06.649472Z",
     "start_time": "2023-11-01T16:17:03.210917Z"
    }
   },
   "outputs": [],
   "source": [
    "import json\n",
    "import pandas as pd\n",
    "from data.data import upload_file, get_and_save_files\n",
    "\n",
    "get_and_save_files('captions_of_images_for_classification.json', \n",
    "                   path_to_save='captions.json')\n",
    "\n",
    "with open('captions.json') as f:\n",
    "    captions = json.load(f)\n",
    "\n",
    "images_names = list(captions.keys())"
   ]
  },
  {
   "cell_type": "code",
   "execution_count": 2,
   "outputs": [],
   "source": [
    "def find_category(input_string):\n",
    "    input_string_split = input_string.split('-')\n",
    "    image_id = input_string_split[2].split('_')[1]\n",
    "    category = input_string_split[1]\n",
    "    position = input_string_split[3].split('.')[0].split('_')[-1]\n",
    "\n",
    "    return {\n",
    "        'gender': input_string_split[0],\n",
    "        'image_id': image_id,\n",
    "        'category': category,\n",
    "        'position': position,\n",
    "        'full_name': input_string\n",
    "    }\n",
    "\n",
    "result = []\n",
    "for name in images_names:\n",
    "    result.append(find_category(name))\n",
    "\n",
    "df = pd.DataFrame(result).query('position == \"front\"')\n",
    "df.to_csv('images_for_classification_category_filename_dataframe.csv', index=False)"
   ],
   "metadata": {
    "collapsed": false,
    "ExecuteTime": {
     "end_time": "2023-11-01T16:17:09.139850Z",
     "start_time": "2023-11-01T16:17:09.090325Z"
    }
   },
   "id": "d2459b3205daee24"
  },
  {
   "cell_type": "code",
   "execution_count": 3,
   "outputs": [],
   "source": [
    "upload_file(path='images_for_classification_category_filename_dataframe.csv',\n",
    "            key='images_for_classification_category_filename_dataframe.csv')"
   ],
   "metadata": {
    "collapsed": false,
    "ExecuteTime": {
     "end_time": "2023-11-01T16:12:56.159911Z",
     "start_time": "2023-11-01T16:12:56.101817Z"
    }
   },
   "id": "798942dd0791a7e6"
  },
  {
   "cell_type": "code",
   "execution_count": null,
   "outputs": [],
   "source": [],
   "metadata": {
    "collapsed": false
   },
   "id": "f802a56ae736f9f1"
  }
 ],
 "metadata": {
  "kernelspec": {
   "display_name": "Python 3",
   "language": "python",
   "name": "python3"
  },
  "language_info": {
   "codemirror_mode": {
    "name": "ipython",
    "version": 2
   },
   "file_extension": ".py",
   "mimetype": "text/x-python",
   "name": "python",
   "nbconvert_exporter": "python",
   "pygments_lexer": "ipython2",
   "version": "2.7.6"
  }
 },
 "nbformat": 4,
 "nbformat_minor": 5
}
