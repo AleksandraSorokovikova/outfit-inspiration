{
 "cells": [
  {
   "cell_type": "code",
   "execution_count": 3,
   "id": "initial_id",
   "metadata": {
    "collapsed": true,
    "ExecuteTime": {
     "end_time": "2023-11-24T12:45:43.863012Z",
     "start_time": "2023-11-24T12:45:43.533392Z"
    }
   },
   "outputs": [],
   "source": [
    "import pandas as pd\n",
    "import os\n",
    "import shutil\n",
    "from tqdm.notebook import tqdm\n",
    "from random import shuffle"
   ]
  },
  {
   "cell_type": "code",
   "execution_count": 4,
   "outputs": [],
   "source": [
    "path_to_folder = '/Users/Aleksandra.Sorokovikova/DL_project/outfit-inspiration/files/images_polyvore'\n",
    "path_to_new_folder = '/Users/Aleksandra.Sorokovikova/DL_project/outfit-inspiration/files/images_polyvore_data'\n",
    "\n",
    "categories = os.listdir(path_to_folder)\n",
    "categories.remove('.DS_Store')\n",
    "os.makedirs(path_to_new_folder, exist_ok=True)"
   ],
   "metadata": {
    "collapsed": false,
    "ExecuteTime": {
     "end_time": "2023-11-24T12:45:43.865805Z",
     "start_time": "2023-11-24T12:45:43.863677Z"
    }
   },
   "id": "d2459b3205daee24"
  },
  {
   "cell_type": "code",
   "execution_count": 5,
   "outputs": [
    {
     "data": {
      "text/plain": "  0%|          | 0/8 [00:00<?, ?it/s]",
      "application/vnd.jupyter.widget-view+json": {
       "version_major": 2,
       "version_minor": 0,
       "model_id": "daf266d6e6554a02a4333e3d252ec7cb"
      }
     },
     "metadata": {},
     "output_type": "display_data"
    }
   ],
   "source": [
    "images_caption_df = []\n",
    "\n",
    "for category in tqdm(categories):\n",
    "    images = os.listdir(f'{path_to_folder}/{category}')\n",
    "    try:\n",
    "        images.remove('.DS_Store')\n",
    "    except:\n",
    "        pass\n",
    "    shuffle(images)\n",
    "    for image in images[:len(images) // 2]:\n",
    "        images_caption_df.append({\n",
    "            'category': category,\n",
    "            'file_name': image\n",
    "        })\n",
    "        shutil.copyfile(f'{path_to_folder}/{category}/{image}', \n",
    "                        f'{path_to_new_folder}/{image}')"
   ],
   "metadata": {
    "collapsed": false,
    "ExecuteTime": {
     "end_time": "2023-11-24T12:45:51.769639Z",
     "start_time": "2023-11-24T12:45:43.937307Z"
    }
   },
   "id": "b02a27127ee6dc56"
  },
  {
   "cell_type": "code",
   "execution_count": 6,
   "outputs": [],
   "source": [
    "images_caption_df = pd.DataFrame(images_caption_df)\n",
    "images_caption_df.to_csv(\n",
    "    '/Users/Aleksandra.Sorokovikova/DL_project/outfit-inspiration/files/images_caption_polyvore.csv'\n",
    ")"
   ],
   "metadata": {
    "collapsed": false,
    "ExecuteTime": {
     "end_time": "2023-11-24T12:45:51.809789Z",
     "start_time": "2023-11-24T12:45:51.778397Z"
    }
   },
   "id": "177704bc835b8cd"
  },
  {
   "cell_type": "code",
   "execution_count": null,
   "outputs": [],
   "source": [],
   "metadata": {
    "collapsed": false
   },
   "id": "6fb10bd19c26bb0d"
  }
 ],
 "metadata": {
  "kernelspec": {
   "display_name": "Python 3",
   "language": "python",
   "name": "python3"
  },
  "language_info": {
   "codemirror_mode": {
    "name": "ipython",
    "version": 2
   },
   "file_extension": ".py",
   "mimetype": "text/x-python",
   "name": "python",
   "nbconvert_exporter": "python",
   "pygments_lexer": "ipython2",
   "version": "2.7.6"
  }
 },
 "nbformat": 4,
 "nbformat_minor": 5
}
