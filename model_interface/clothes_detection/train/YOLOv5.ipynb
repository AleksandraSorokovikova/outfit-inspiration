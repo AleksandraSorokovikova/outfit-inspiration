{
 "cells": [
  {
   "cell_type": "markdown",
   "metadata": {
    "id": "7mGmQbAO5pQb"
   },
   "source": [
    "**Setup**\n",
    "\n",
    "Clone GitHub [repository](https://github.com/ultralytics/yolov5), install [dependencies](https://github.com/ultralytics/yolov5/blob/master/requirements.txt) and check PyTorch and GPU."
   ]
  },
  {
   "cell_type": "code",
   "execution_count": null,
   "metadata": {
    "colab": {
     "base_uri": "https://localhost:8080/"
    },
    "id": "wbvMlHd_QwMG",
    "outputId": "d253a1bb-b0a8-40b1-ea35-e123fdbbbfb6"
   },
   "outputs": [
    {
     "output_type": "stream",
     "name": "stderr",
     "text": [
      "YOLOv5 🚀 v7.0-240-g84ec8b5 Python-3.10.12 torch-2.1.0+cu118 CUDA:0 (Tesla V100-SXM2-16GB, 16151MiB)\n"
     ]
    },
    {
     "output_type": "stream",
     "name": "stdout",
     "text": [
      "Setup complete ✅ (2 CPUs, 12.7 GB RAM, 26.8/166.8 GB disk)\n"
     ]
    }
   ],
   "source": [
    "!git clone https://github.com/ultralytics/yolov5\n",
    "%cd yolov5\n",
    "%pip install -qr requirements.txt\n",
    "\n",
    "import torch\n",
    "import utils\n",
    "display = utils.notebook_init()"
   ]
  },
  {
   "cell_type": "code",
   "source": [
    "from google.colab import drive\n",
    "\n",
    "drive.mount('/content/drive')"
   ],
   "metadata": {
    "colab": {
     "base_uri": "https://localhost:8080/"
    },
    "id": "B1fFDdckG5L0",
    "outputId": "52df243e-54ef-4b56-8ff0-75a42a6cf4d5"
   },
   "execution_count": null,
   "outputs": [
    {
     "output_type": "stream",
     "name": "stdout",
     "text": [
      "Mounted at /content/drive\n"
     ]
    }
   ]
  },
  {
   "cell_type": "code",
   "source": [
    "file_path_in_drive = '/content/drive/MyDrive/clothes.zip'\n",
    "local_download_path = '/content/datasets/'\n",
    "source_directory = \"/content/yolov5/runs/train/exp\"\n",
    "destination_directory = \"/content/drive/MyDrive/outrfit_insp\""
   ],
   "metadata": {
    "id": "qCUpdm4gG61j"
   },
   "execution_count": null,
   "outputs": []
  },
  {
   "cell_type": "code",
   "source": [
    "import shutil\n",
    "\n",
    "shutil.copy(file_path_in_drive, local_download_path)"
   ],
   "metadata": {
    "colab": {
     "base_uri": "https://localhost:8080/",
     "height": 35
    },
    "id": "7u-LxKbmHWz7",
    "outputId": "81eac56a-a52f-4450-c284-f5d8c594d4aa"
   },
   "execution_count": null,
   "outputs": [
    {
     "output_type": "execute_result",
     "data": {
      "text/plain": [
       "'/content/datasets/clothes.zip'"
      ],
      "application/vnd.google.colaboratory.intrinsic+json": {
       "type": "string"
      }
     },
     "metadata": {},
     "execution_count": 5
    }
   ]
  },
  {
   "cell_type": "code",
   "execution_count": null,
   "metadata": {
    "id": "OIFFufWQUB6e"
   },
   "outputs": [],
   "source": [
    "!unzip \"../datasets/clothes.zip\" -d \"../datasets/\""
   ]
  },
  {
   "cell_type": "code",
   "source": [],
   "metadata": {
    "id": "xEJ_cLOVbXXi"
   },
   "execution_count": null,
   "outputs": []
  },
  {
   "cell_type": "markdown",
   "source": [
    "**TRAIN MODEL**\n",
    "\n",
    "2 epochs, model size s"
   ],
   "metadata": {
    "id": "qRh_f6-QbPNY"
   }
  },
  {
   "cell_type": "code",
   "execution_count": null,
   "metadata": {
    "colab": {
     "base_uri": "https://localhost:8080/"
    },
    "id": "1NcFxRcFdJ_O",
    "outputId": "a4224902-a9f9-4254-d73d-c859b247cb08"
   },
   "outputs": [
    {
     "output_type": "stream",
     "name": "stdout",
     "text": [
      "2023-11-13 19:40:49.772219: E tensorflow/compiler/xla/stream_executor/cuda/cuda_dnn.cc:9342] Unable to register cuDNN factory: Attempting to register factory for plugin cuDNN when one has already been registered\n",
      "2023-11-13 19:40:49.772279: E tensorflow/compiler/xla/stream_executor/cuda/cuda_fft.cc:609] Unable to register cuFFT factory: Attempting to register factory for plugin cuFFT when one has already been registered\n",
      "2023-11-13 19:40:49.772318: E tensorflow/compiler/xla/stream_executor/cuda/cuda_blas.cc:1518] Unable to register cuBLAS factory: Attempting to register factory for plugin cuBLAS when one has already been registered\n",
      "\u001B[34m\u001B[1mtrain: \u001B[0mweights=yolov5s.pt, cfg=, data=clothes.yaml, hyp=data/hyps/hyp.scratch-low.yaml, epochs=2, batch_size=16, imgsz=640, rect=False, resume=False, nosave=False, noval=False, noautoanchor=False, noplots=False, evolve=None, bucket=, cache=None, image_weights=False, device=, multi_scale=False, single_cls=False, optimizer=SGD, sync_bn=False, workers=8, project=runs/train, name=exp, exist_ok=False, quad=False, cos_lr=False, label_smoothing=0.0, patience=100, freeze=[0], save_period=-1, seed=0, local_rank=-1, entity=None, upload_dataset=False, bbox_interval=-1, artifact_alias=latest\n",
      "\u001B[34m\u001B[1mgithub: \u001B[0mup to date with https://github.com/ultralytics/yolov5 ✅\n",
      "YOLOv5 🚀 v7.0-240-g84ec8b5 Python-3.10.12 torch-2.1.0+cu118 CUDA:0 (Tesla V100-SXM2-16GB, 16151MiB)\n",
      "\n",
      "\u001B[34m\u001B[1mhyperparameters: \u001B[0mlr0=0.01, lrf=0.01, momentum=0.937, weight_decay=0.0005, warmup_epochs=3.0, warmup_momentum=0.8, warmup_bias_lr=0.1, box=0.05, cls=0.5, cls_pw=1.0, obj=1.0, obj_pw=1.0, iou_t=0.2, anchor_t=4.0, fl_gamma=0.0, hsv_h=0.015, hsv_s=0.7, hsv_v=0.4, degrees=0.0, translate=0.1, scale=0.5, shear=0.0, perspective=0.0, flipud=0.0, fliplr=0.5, mosaic=1.0, mixup=0.0, copy_paste=0.0\n",
      "\u001B[34m\u001B[1mTensorBoard: \u001B[0mStart with 'tensorboard --logdir runs/train', view at http://localhost:6006/\n",
      "\u001B[1;38;5;39mCOMET INFO:\u001B[0m Experiment is live on comet.com \u001B[38;5;39mhttps://www.comet.com/j3ne4ek/yolov5/d494aa646d47459ea58524535c13544d\u001B[0m\n",
      "\n",
      "Downloading https://github.com/ultralytics/yolov5/releases/download/v7.0/yolov5s.pt to yolov5s.pt...\n",
      "100%|██████████| 14.1M/14.1M [00:00<00:00, 134MB/s]\n",
      "\n",
      "Overriding model.yaml nc=80 with nc=21\n",
      "\n",
      "                 from  n    params  module                                  arguments                     \n",
      "  0                -1  1      3520  models.common.Conv                      [3, 32, 6, 2, 2]              \n",
      "  1                -1  1     18560  models.common.Conv                      [32, 64, 3, 2]                \n",
      "  2                -1  1     18816  models.common.C3                        [64, 64, 1]                   \n",
      "  3                -1  1     73984  models.common.Conv                      [64, 128, 3, 2]               \n",
      "  4                -1  2    115712  models.common.C3                        [128, 128, 2]                 \n",
      "  5                -1  1    295424  models.common.Conv                      [128, 256, 3, 2]              \n",
      "  6                -1  3    625152  models.common.C3                        [256, 256, 3]                 \n",
      "  7                -1  1   1180672  models.common.Conv                      [256, 512, 3, 2]              \n",
      "  8                -1  1   1182720  models.common.C3                        [512, 512, 1]                 \n",
      "  9                -1  1    656896  models.common.SPPF                      [512, 512, 5]                 \n",
      " 10                -1  1    131584  models.common.Conv                      [512, 256, 1, 1]              \n",
      " 11                -1  1         0  torch.nn.modules.upsampling.Upsample    [None, 2, 'nearest']          \n",
      " 12           [-1, 6]  1         0  models.common.Concat                    [1]                           \n",
      " 13                -1  1    361984  models.common.C3                        [512, 256, 1, False]          \n",
      " 14                -1  1     33024  models.common.Conv                      [256, 128, 1, 1]              \n",
      " 15                -1  1         0  torch.nn.modules.upsampling.Upsample    [None, 2, 'nearest']          \n",
      " 16           [-1, 4]  1         0  models.common.Concat                    [1]                           \n",
      " 17                -1  1     90880  models.common.C3                        [256, 128, 1, False]          \n",
      " 18                -1  1    147712  models.common.Conv                      [128, 128, 3, 2]              \n",
      " 19          [-1, 14]  1         0  models.common.Concat                    [1]                           \n",
      " 20                -1  1    296448  models.common.C3                        [256, 256, 1, False]          \n",
      " 21                -1  1    590336  models.common.Conv                      [256, 256, 3, 2]              \n",
      " 22          [-1, 10]  1         0  models.common.Concat                    [1]                           \n",
      " 23                -1  1   1182720  models.common.C3                        [512, 512, 1, False]          \n",
      " 24      [17, 20, 23]  1     70122  models.yolo.Detect                      [21, [[10, 13, 16, 30, 33, 23], [30, 61, 62, 45, 59, 119], [116, 90, 156, 198, 373, 326]], [128, 256, 512]]\n",
      "Model summary: 214 layers, 7076266 parameters, 7076266 gradients, 16.1 GFLOPs\n",
      "\n",
      "Transferred 343/349 items from yolov5s.pt\n",
      "\u001B[34m\u001B[1mAMP: \u001B[0mchecks passed ✅\n",
      "\u001B[34m\u001B[1moptimizer:\u001B[0m SGD(lr=0.01) with parameter groups 57 weight(decay=0.0), 60 weight(decay=0.0005), 60 bias\n",
      "\u001B[34m\u001B[1malbumentations: \u001B[0mBlur(p=0.01, blur_limit=(3, 7)), MedianBlur(p=0.01, blur_limit=(3, 7)), ToGray(p=0.01), CLAHE(p=0.01, clip_limit=(1, 4.0), tile_grid_size=(8, 8))\n",
      "\u001B[34m\u001B[1mtrain: \u001B[0mScanning /content/datasets/clothes/train... 408909 images, 0 backgrounds, 6 corrupt: 100%|██████████| 408915/408915 [07:09<00:00, 952.89it/s] \n",
      "\u001B[34m\u001B[1mtrain: \u001B[0mWARNING ⚠️ /content/datasets/clothes/images/45fa09aac944e22b466e4d210c46ae5c.jpg: ignoring corrupt image/label: [Errno 2] No such file or directory: '/content/datasets/clothes/images/45fa09aac944e22b466e4d210c46ae5c.jpg'\n",
      "\u001B[34m\u001B[1mtrain: \u001B[0mWARNING ⚠️ /content/datasets/clothes/images/45fa09aac944e22b466e4d210c46ae5c.jpg: ignoring corrupt image/label: [Errno 2] No such file or directory: '/content/datasets/clothes/images/45fa09aac944e22b466e4d210c46ae5c.jpg'\n",
      "\u001B[34m\u001B[1mtrain: \u001B[0mWARNING ⚠️ /content/datasets/clothes/images/45fa09aac944e22b466e4d210c46ae5c.jpg: ignoring corrupt image/label: [Errno 2] No such file or directory: '/content/datasets/clothes/images/45fa09aac944e22b466e4d210c46ae5c.jpg'\n",
      "\u001B[34m\u001B[1mtrain: \u001B[0mWARNING ⚠️ /content/datasets/clothes/images/da5e553cbacb0382eb23ebed119916e4.jpg: ignoring corrupt image/label: [Errno 2] No such file or directory: '/content/datasets/clothes/images/da5e553cbacb0382eb23ebed119916e4.jpg'\n",
      "\u001B[34m\u001B[1mtrain: \u001B[0mWARNING ⚠️ /content/datasets/clothes/images/da5e553cbacb0382eb23ebed119916e4.jpg: ignoring corrupt image/label: [Errno 2] No such file or directory: '/content/datasets/clothes/images/da5e553cbacb0382eb23ebed119916e4.jpg'\n",
      "\u001B[34m\u001B[1mtrain: \u001B[0mWARNING ⚠️ /content/datasets/clothes/images/da5e553cbacb0382eb23ebed119916e4.jpg: ignoring corrupt image/label: [Errno 2] No such file or directory: '/content/datasets/clothes/images/da5e553cbacb0382eb23ebed119916e4.jpg'\n",
      "\u001B[34m\u001B[1mtrain: \u001B[0mNew cache created: /content/datasets/clothes/train.cache\n",
      "\u001B[34m\u001B[1mval: \u001B[0mScanning /content/datasets/clothes/val... 45434 images, 0 backgrounds, 2 corrupt: 100%|██████████| 45436/45436 [00:38<00:00, 1166.42it/s]\n",
      "\u001B[34m\u001B[1mval: \u001B[0mWARNING ⚠️ /content/datasets/clothes/images/da5e553cbacb0382eb23ebed119916e4.jpg: ignoring corrupt image/label: [Errno 2] No such file or directory: '/content/datasets/clothes/images/da5e553cbacb0382eb23ebed119916e4.jpg'\n",
      "\u001B[34m\u001B[1mval: \u001B[0mWARNING ⚠️ /content/datasets/clothes/images/da5e553cbacb0382eb23ebed119916e4.jpg: ignoring corrupt image/label: [Errno 2] No such file or directory: '/content/datasets/clothes/images/da5e553cbacb0382eb23ebed119916e4.jpg'\n",
      "\u001B[34m\u001B[1mval: \u001B[0mNew cache created: /content/datasets/clothes/val.cache\n",
      "\n",
      "\u001B[34m\u001B[1mAutoAnchor: \u001B[0m3.97 anchors/target, 1.000 Best Possible Recall (BPR). Current anchors are a good fit to dataset ✅\n",
      "Plotting labels to runs/train/exp/labels.jpg... \n",
      "Image sizes 640 train, 640 val\n",
      "Using 2 dataloader workers\n",
      "Logging results to \u001B[1mruns/train/exp\u001B[0m\n",
      "Starting training for 2 epochs...\n",
      "\n",
      "      Epoch    GPU_mem   box_loss   obj_loss   cls_loss  Instances       Size\n",
      "        0/1      3.46G    0.03203    0.04568    0.03398         73        640: 100%|██████████| 6742/6742 [1:01:32<00:00,  1.83it/s]\n",
      "                 Class     Images  Instances          P          R      mAP50   mAP50-95: 100%|██████████| 1197/1197 [11:03<00:00,  1.80it/s]\n",
      "                   all      38292     167131      0.882      0.473      0.504      0.419\n",
      "\n",
      "      Epoch    GPU_mem   box_loss   obj_loss   cls_loss  Instances       Size\n",
      "        1/1      7.73G    0.02245    0.03932     0.0142         86        640: 100%|██████████| 6742/6742 [1:01:25<00:00,  1.83it/s]\n",
      "                 Class     Images  Instances          P          R      mAP50   mAP50-95: 100%|██████████| 1197/1197 [10:44<00:00,  1.86it/s]\n",
      "                   all      38292     167131        0.9      0.541      0.565      0.483\n",
      "\n",
      "2 epochs completed in 2.419 hours.\n",
      "Optimizer stripped from runs/train/exp/weights/last.pt, 14.4MB\n",
      "Optimizer stripped from runs/train/exp/weights/best.pt, 14.4MB\n",
      "\n",
      "Validating runs/train/exp/weights/best.pt...\n",
      "Fusing layers... \n",
      "Model summary: 157 layers, 7066762 parameters, 0 gradients, 15.9 GFLOPs\n",
      "                 Class     Images  Instances          P          R      mAP50   mAP50-95: 100%|██████████| 1197/1197 [11:41<00:00,  1.71it/s]\n",
      "                   all      38292     167131        0.9      0.541      0.565      0.483\n",
      "                 Shoes      38292      33652      0.896       0.95      0.958      0.761\n",
      "      Scarves & Shawls      38292       2424      0.777      0.814      0.849      0.718\n",
      "       Coats & Jackets      38292      15762      0.831       0.93      0.938      0.849\n",
      "              Handbags      38292      31693      0.926      0.978      0.978       0.83\n",
      "                 Pants      38292      19191      0.931      0.981      0.981      0.887\n",
      "         Shirts & Tops      38292      22152      0.825      0.915      0.934      0.844\n",
      "               Jewelry      38292       9753      0.737      0.623      0.756      0.604\n",
      "            Sunglasses      38292       3887      0.754      0.772      0.843      0.685\n",
      "               Dresses      38292       9262      0.862      0.901       0.94      0.817\n",
      "                Shorts      38292       3499      0.892      0.904      0.954       0.81\n",
      "                  Hats      38292       6894      0.826      0.926       0.93      0.805\n",
      "                Skirts      38292       5468      0.859      0.889      0.932       0.81\n",
      "               Watches      38292       2374       0.78      0.786      0.852      0.703\n",
      "                 Socks      38292        315          1          0    0.00728    0.00581\n",
      "   Jumpsuits & Rompers      38292        106          1          0    0.00183    0.00152\n",
      "                 Rings      38292        238          1          0     0.0128     0.0109\n",
      "                 Belts      38292        318          1          0    0.00399    0.00304\n",
      "             Stockings      38292         42          1          0   9.91e-05   6.65e-05\n",
      "              Swimwear      38292         70          1          0   0.000392   0.000351\n",
      "      Gloves & Mittens      38292         28          1          0   8.99e-05   7.33e-05\n",
      "              Neckties      38292          3          1          0   3.45e-06   2.76e-06\n",
      "Results saved to \u001B[1mruns/train/exp\u001B[0m\n",
      "\u001B[1;38;5;39mCOMET INFO:\u001B[0m ---------------------------------------------------------------------------------------\n",
      "\u001B[1;38;5;39mCOMET INFO:\u001B[0m Comet.ml Experiment Summary\n",
      "\u001B[1;38;5;39mCOMET INFO:\u001B[0m ---------------------------------------------------------------------------------------\n",
      "\u001B[1;38;5;39mCOMET INFO:\u001B[0m   Data:\n",
      "\u001B[1;38;5;39mCOMET INFO:\u001B[0m     display_summary_level : 1\n",
      "\u001B[1;38;5;39mCOMET INFO:\u001B[0m     url                   : \u001B[38;5;39mhttps://www.comet.com/j3ne4ek/yolov5/d494aa646d47459ea58524535c13544d\u001B[0m\n",
      "\u001B[1;38;5;39mCOMET INFO:\u001B[0m   Metrics [count] (min, max):\n",
      "\u001B[1;38;5;39mCOMET INFO:\u001B[0m     loss [1349]              : (0.9137341976165771, 4.276592254638672)\n",
      "\u001B[1;38;5;39mCOMET INFO:\u001B[0m     metrics/mAP_0.5 [4]      : (0.5036598454164785, 0.5653176599076174)\n",
      "\u001B[1;38;5;39mCOMET INFO:\u001B[0m     metrics/mAP_0.5:0.95 [4] : (0.4189973918635004, 0.48304052978027623)\n",
      "\u001B[1;38;5;39mCOMET INFO:\u001B[0m     metrics/precision [4]    : (0.8815730869423681, 0.8999819680554172)\n",
      "\u001B[1;38;5;39mCOMET INFO:\u001B[0m     metrics/recall [4]       : (0.47260737476246223, 0.5412034718540039)\n",
      "\u001B[1;38;5;39mCOMET INFO:\u001B[0m     train/box_loss [4]       : (0.022446654736995697, 0.03202681243419647)\n",
      "\u001B[1;38;5;39mCOMET INFO:\u001B[0m     train/cls_loss [4]       : (0.014197474345564842, 0.033982083201408386)\n",
      "\u001B[1;38;5;39mCOMET INFO:\u001B[0m     train/obj_loss [4]       : (0.03931856527924538, 0.04568135738372803)\n",
      "\u001B[1;38;5;39mCOMET INFO:\u001B[0m     val/box_loss [4]         : (0.008629655465483665, 0.009726488962769508)\n",
      "\u001B[1;38;5;39mCOMET INFO:\u001B[0m     val/cls_loss [4]         : (0.003412375459447503, 0.006426953244954348)\n",
      "\u001B[1;38;5;39mCOMET INFO:\u001B[0m     val/obj_loss [4]         : (0.019288258627057076, 0.020660273730754852)\n",
      "\u001B[1;38;5;39mCOMET INFO:\u001B[0m     x/lr0 [4]                : (0.036704694452684664, 0.07000444971818451)\n",
      "\u001B[1;38;5;39mCOMET INFO:\u001B[0m     x/lr1 [4]                : (0.0033328389202017207, 0.003366416988035202)\n",
      "\u001B[1;38;5;39mCOMET INFO:\u001B[0m     x/lr2 [4]                : (0.0033328389202017207, 0.003366416988035202)\n",
      "\u001B[1;38;5;39mCOMET INFO:\u001B[0m   Others:\n",
      "\u001B[1;38;5;39mCOMET INFO:\u001B[0m     Name                        : exp\n",
      "\u001B[1;38;5;39mCOMET INFO:\u001B[0m     Run Path                    : j3ne4ek/yolov5/d494aa646d47459ea58524535c13544d\n",
      "\u001B[1;38;5;39mCOMET INFO:\u001B[0m     comet_log_batch_metrics     : False\n",
      "\u001B[1;38;5;39mCOMET INFO:\u001B[0m     comet_log_confusion_matrix  : True\n",
      "\u001B[1;38;5;39mCOMET INFO:\u001B[0m     comet_log_per_class_metrics : False\n",
      "\u001B[1;38;5;39mCOMET INFO:\u001B[0m     comet_max_image_uploads     : 100\n",
      "\u001B[1;38;5;39mCOMET INFO:\u001B[0m     comet_mode                  : online\n",
      "\u001B[1;38;5;39mCOMET INFO:\u001B[0m     comet_model_name            : yolov5\n",
      "\u001B[1;38;5;39mCOMET INFO:\u001B[0m     hasNestedParams             : True\n",
      "\u001B[1;38;5;39mCOMET INFO:\u001B[0m   Parameters:\n",
      "\u001B[1;38;5;39mCOMET INFO:\u001B[0m     anchor_t            : 4.0\n",
      "\u001B[1;38;5;39mCOMET INFO:\u001B[0m     artifact_alias      : latest\n",
      "\u001B[1;38;5;39mCOMET INFO:\u001B[0m     batch_size          : 16\n",
      "\u001B[1;38;5;39mCOMET INFO:\u001B[0m     bbox_interval       : -1\n",
      "\u001B[1;38;5;39mCOMET INFO:\u001B[0m     box                 : 0.05\n",
      "\u001B[1;38;5;39mCOMET INFO:\u001B[0m     bucket              : \n",
      "\u001B[1;38;5;39mCOMET INFO:\u001B[0m     cache               : None\n",
      "\u001B[1;38;5;39mCOMET INFO:\u001B[0m     cfg                 : \n",
      "\u001B[1;38;5;39mCOMET INFO:\u001B[0m     cls                 : 0.13125\n",
      "\u001B[1;38;5;39mCOMET INFO:\u001B[0m     cls_pw              : 1.0\n",
      "\u001B[1;38;5;39mCOMET INFO:\u001B[0m     copy_paste          : 0.0\n",
      "\u001B[1;38;5;39mCOMET INFO:\u001B[0m     cos_lr              : False\n",
      "\u001B[1;38;5;39mCOMET INFO:\u001B[0m     degrees             : 0.0\n",
      "\u001B[1;38;5;39mCOMET INFO:\u001B[0m     device              : \n",
      "\u001B[1;38;5;39mCOMET INFO:\u001B[0m     entity              : None\n",
      "\u001B[1;38;5;39mCOMET INFO:\u001B[0m     evolve              : None\n",
      "\u001B[1;38;5;39mCOMET INFO:\u001B[0m     exist_ok            : False\n",
      "\u001B[1;38;5;39mCOMET INFO:\u001B[0m     fl_gamma            : 0.0\n",
      "\u001B[1;38;5;39mCOMET INFO:\u001B[0m     fliplr              : 0.5\n",
      "\u001B[1;38;5;39mCOMET INFO:\u001B[0m     flipud              : 0.0\n",
      "\u001B[1;38;5;39mCOMET INFO:\u001B[0m     freeze              : [0]\n",
      "\u001B[1;38;5;39mCOMET INFO:\u001B[0m     hsv_h               : 0.015\n",
      "\u001B[1;38;5;39mCOMET INFO:\u001B[0m     hsv_s               : 0.7\n",
      "\u001B[1;38;5;39mCOMET INFO:\u001B[0m     hsv_v               : 0.4\n",
      "\u001B[1;38;5;39mCOMET INFO:\u001B[0m     hyp|anchor_t        : 4.0\n",
      "\u001B[1;38;5;39mCOMET INFO:\u001B[0m     hyp|box             : 0.05\n",
      "\u001B[1;38;5;39mCOMET INFO:\u001B[0m     hyp|cls             : 0.5\n",
      "\u001B[1;38;5;39mCOMET INFO:\u001B[0m     hyp|cls_pw          : 1.0\n",
      "\u001B[1;38;5;39mCOMET INFO:\u001B[0m     hyp|copy_paste      : 0.0\n",
      "\u001B[1;38;5;39mCOMET INFO:\u001B[0m     hyp|degrees         : 0.0\n",
      "\u001B[1;38;5;39mCOMET INFO:\u001B[0m     hyp|fl_gamma        : 0.0\n",
      "\u001B[1;38;5;39mCOMET INFO:\u001B[0m     hyp|fliplr          : 0.5\n",
      "\u001B[1;38;5;39mCOMET INFO:\u001B[0m     hyp|flipud          : 0.0\n",
      "\u001B[1;38;5;39mCOMET INFO:\u001B[0m     hyp|hsv_h           : 0.015\n",
      "\u001B[1;38;5;39mCOMET INFO:\u001B[0m     hyp|hsv_s           : 0.7\n",
      "\u001B[1;38;5;39mCOMET INFO:\u001B[0m     hyp|hsv_v           : 0.4\n",
      "\u001B[1;38;5;39mCOMET INFO:\u001B[0m     hyp|iou_t           : 0.2\n",
      "\u001B[1;38;5;39mCOMET INFO:\u001B[0m     hyp|lr0             : 0.01\n",
      "\u001B[1;38;5;39mCOMET INFO:\u001B[0m     hyp|lrf             : 0.01\n",
      "\u001B[1;38;5;39mCOMET INFO:\u001B[0m     hyp|mixup           : 0.0\n",
      "\u001B[1;38;5;39mCOMET INFO:\u001B[0m     hyp|momentum        : 0.937\n",
      "\u001B[1;38;5;39mCOMET INFO:\u001B[0m     hyp|mosaic          : 1.0\n",
      "\u001B[1;38;5;39mCOMET INFO:\u001B[0m     hyp|obj             : 1.0\n",
      "\u001B[1;38;5;39mCOMET INFO:\u001B[0m     hyp|obj_pw          : 1.0\n",
      "\u001B[1;38;5;39mCOMET INFO:\u001B[0m     hyp|perspective     : 0.0\n",
      "\u001B[1;38;5;39mCOMET INFO:\u001B[0m     hyp|scale           : 0.5\n",
      "\u001B[1;38;5;39mCOMET INFO:\u001B[0m     hyp|shear           : 0.0\n",
      "\u001B[1;38;5;39mCOMET INFO:\u001B[0m     hyp|translate       : 0.1\n",
      "\u001B[1;38;5;39mCOMET INFO:\u001B[0m     hyp|warmup_bias_lr  : 0.1\n",
      "\u001B[1;38;5;39mCOMET INFO:\u001B[0m     hyp|warmup_epochs   : 3.0\n",
      "\u001B[1;38;5;39mCOMET INFO:\u001B[0m     hyp|warmup_momentum : 0.8\n",
      "\u001B[1;38;5;39mCOMET INFO:\u001B[0m     hyp|weight_decay    : 0.0005\n",
      "\u001B[1;38;5;39mCOMET INFO:\u001B[0m     image_weights       : False\n",
      "\u001B[1;38;5;39mCOMET INFO:\u001B[0m     imgsz               : 640\n",
      "\u001B[1;38;5;39mCOMET INFO:\u001B[0m     iou_t               : 0.2\n",
      "\u001B[1;38;5;39mCOMET INFO:\u001B[0m     label_smoothing     : 0.0\n",
      "\u001B[1;38;5;39mCOMET INFO:\u001B[0m     local_rank          : -1\n",
      "\u001B[1;38;5;39mCOMET INFO:\u001B[0m     lr0                 : 0.01\n",
      "\u001B[1;38;5;39mCOMET INFO:\u001B[0m     lrf                 : 0.01\n",
      "\u001B[1;38;5;39mCOMET INFO:\u001B[0m     mixup               : 0.0\n",
      "\u001B[1;38;5;39mCOMET INFO:\u001B[0m     momentum            : 0.937\n",
      "\u001B[1;38;5;39mCOMET INFO:\u001B[0m     mosaic              : 1.0\n",
      "\u001B[1;38;5;39mCOMET INFO:\u001B[0m     multi_scale         : False\n",
      "\u001B[1;38;5;39mCOMET INFO:\u001B[0m     name                : exp\n",
      "\u001B[1;38;5;39mCOMET INFO:\u001B[0m     noautoanchor        : False\n",
      "\u001B[1;38;5;39mCOMET INFO:\u001B[0m     noplots             : False\n",
      "\u001B[1;38;5;39mCOMET INFO:\u001B[0m     nosave              : False\n",
      "\u001B[1;38;5;39mCOMET INFO:\u001B[0m     noval               : False\n",
      "\u001B[1;38;5;39mCOMET INFO:\u001B[0m     obj                 : 1.0\n",
      "\u001B[1;38;5;39mCOMET INFO:\u001B[0m     obj_pw              : 1.0\n",
      "\u001B[1;38;5;39mCOMET INFO:\u001B[0m     optimizer           : SGD\n",
      "\u001B[1;38;5;39mCOMET INFO:\u001B[0m     patience            : 100\n",
      "\u001B[1;38;5;39mCOMET INFO:\u001B[0m     perspective         : 0.0\n",
      "\u001B[1;38;5;39mCOMET INFO:\u001B[0m     project             : runs/train\n",
      "\u001B[1;38;5;39mCOMET INFO:\u001B[0m     quad                : False\n",
      "\u001B[1;38;5;39mCOMET INFO:\u001B[0m     rect                : False\n",
      "\u001B[1;38;5;39mCOMET INFO:\u001B[0m     resume              : False\n",
      "\u001B[1;38;5;39mCOMET INFO:\u001B[0m     save_dir            : runs/train/exp\n",
      "\u001B[1;38;5;39mCOMET INFO:\u001B[0m     save_period         : -1\n",
      "\u001B[1;38;5;39mCOMET INFO:\u001B[0m     scale               : 0.5\n",
      "\u001B[1;38;5;39mCOMET INFO:\u001B[0m     seed                : 0\n",
      "\u001B[1;38;5;39mCOMET INFO:\u001B[0m     shear               : 0.0\n",
      "\u001B[1;38;5;39mCOMET INFO:\u001B[0m     single_cls          : False\n",
      "\u001B[1;38;5;39mCOMET INFO:\u001B[0m     sync_bn             : False\n",
      "\u001B[1;38;5;39mCOMET INFO:\u001B[0m     translate           : 0.1\n",
      "\u001B[1;38;5;39mCOMET INFO:\u001B[0m     upload_dataset      : False\n",
      "\u001B[1;38;5;39mCOMET INFO:\u001B[0m     val_conf_threshold  : 0.001\n",
      "\u001B[1;38;5;39mCOMET INFO:\u001B[0m     val_iou_threshold   : 0.6\n",
      "\u001B[1;38;5;39mCOMET INFO:\u001B[0m     warmup_bias_lr      : 0.1\n",
      "\u001B[1;38;5;39mCOMET INFO:\u001B[0m     warmup_epochs       : 3.0\n",
      "\u001B[1;38;5;39mCOMET INFO:\u001B[0m     warmup_momentum     : 0.8\n",
      "\u001B[1;38;5;39mCOMET INFO:\u001B[0m     weight_decay        : 0.0005\n",
      "\u001B[1;38;5;39mCOMET INFO:\u001B[0m     workers             : 8\n",
      "\u001B[1;38;5;39mCOMET INFO:\u001B[0m   Uploads:\n",
      "\u001B[1;38;5;39mCOMET INFO:\u001B[0m     asset               : 13 (2.17 MB)\n",
      "\u001B[1;38;5;39mCOMET INFO:\u001B[0m     confusion-matrix    : 1\n",
      "\u001B[1;38;5;39mCOMET INFO:\u001B[0m     environment details : 1\n",
      "\u001B[1;38;5;39mCOMET INFO:\u001B[0m     git metadata        : 1\n",
      "\u001B[1;38;5;39mCOMET INFO:\u001B[0m     images              : 106\n",
      "\u001B[1;38;5;39mCOMET INFO:\u001B[0m     installed packages  : 1\n",
      "\u001B[1;38;5;39mCOMET INFO:\u001B[0m     model graph         : 1\n",
      "\u001B[1;38;5;39mCOMET INFO:\u001B[0m     os packages         : 1\n",
      "\u001B[1;38;5;39mCOMET INFO:\u001B[0m \n",
      "\u001B[36m──────────────────────────────────────── \u001B[0m\u001B[1;36mNew Comet feature!\u001B[0m\u001B[36m ────────────────────────────────────────\u001B[0m\n",
      "Log your models to better track, deploy, share, and reproduce your work using: 'comet_ml.integration.pytorch.log_model'.\n",
      "Learn more at: https://comet.com/docs/v2/pytorch_log_model\n",
      "\n",
      "Hide this message by setting environment variable \"COMET_DISABLE_ANNOUNCEMENT=1\" \n",
      "\u001B[36m────────────────────────────────────────────────────────────────────────────────────────────────────\u001B[0m\n"
     ]
    }
   ],
   "source": [
    "!python train.py --img 640 --epochs 2 --data clothes.yaml --weights yolov5s.pt"
   ]
  },
  {
   "cell_type": "code",
   "source": [
    "shutil.copytree(source_directory, destination_directory)"
   ],
   "metadata": {
    "colab": {
     "base_uri": "https://localhost:8080/",
     "height": 35
    },
    "id": "tjrDwGwvy0DZ",
    "outputId": "8f44e2da-bf36-482e-968d-5f4ecf97f273"
   },
   "execution_count": null,
   "outputs": [
    {
     "output_type": "execute_result",
     "data": {
      "text/plain": [
       "'/content/drive/MyDrive/outrfit_insp'"
      ],
      "application/vnd.google.colaboratory.intrinsic+json": {
       "type": "string"
      }
     },
     "metadata": {},
     "execution_count": 14
    }
   ]
  }
 ],
 "metadata": {
  "accelerator": "GPU",
  "colab": {
   "provenance": [],
   "gpuType": "V100"
  },
  "kernelspec": {
   "display_name": "Python 3",
   "name": "python3"
  }
 },
 "nbformat": 4,
 "nbformat_minor": 0
}
